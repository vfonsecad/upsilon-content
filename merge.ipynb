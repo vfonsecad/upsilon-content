{
 "cells": [
  {
   "cell_type": "code",
   "execution_count": 1,
   "metadata": {},
   "outputs": [],
   "source": [
    "from deep_translator import (GoogleTranslator,\n",
    "                             ChatGptTranslator,\n",
    "                             MicrosoftTranslator,\n",
    "                             PonsTranslator,\n",
    "                             LingueeTranslator,\n",
    "                             MyMemoryTranslator,\n",
    "                             YandexTranslator,\n",
    "                             PapagoTranslator,\n",
    "                             DeeplTranslator,\n",
    "                             QcriTranslator,\n",
    "                             single_detection,\n",
    "                             batch_detection)"
   ]
  },
  {
   "cell_type": "code",
   "execution_count": 2,
   "metadata": {},
   "outputs": [
    {
     "data": {
      "text/html": [
       "<div>\n",
       "<style scoped>\n",
       "    .dataframe tbody tr th:only-of-type {\n",
       "        vertical-align: middle;\n",
       "    }\n",
       "\n",
       "    .dataframe tbody tr th {\n",
       "        vertical-align: top;\n",
       "    }\n",
       "\n",
       "    .dataframe thead th {\n",
       "        text-align: right;\n",
       "    }\n",
       "</style>\n",
       "<table border=\"1\" class=\"dataframe\">\n",
       "  <thead>\n",
       "    <tr style=\"text-align: right;\">\n",
       "      <th></th>\n",
       "      <th>German</th>\n",
       "      <th>Translation</th>\n",
       "      <th>Category</th>\n",
       "    </tr>\n",
       "  </thead>\n",
       "  <tbody>\n",
       "    <tr>\n",
       "      <th>0</th>\n",
       "      <td>schnell</td>\n",
       "      <td>fast</td>\n",
       "      <td>Adjektive</td>\n",
       "    </tr>\n",
       "    <tr>\n",
       "      <th>1</th>\n",
       "      <td>langsam</td>\n",
       "      <td>slow</td>\n",
       "      <td>Adjektive</td>\n",
       "    </tr>\n",
       "    <tr>\n",
       "      <th>2</th>\n",
       "      <td>richtig</td>\n",
       "      <td>right</td>\n",
       "      <td>Adjektive</td>\n",
       "    </tr>\n",
       "    <tr>\n",
       "      <th>3</th>\n",
       "      <td>falsch</td>\n",
       "      <td>wrong</td>\n",
       "      <td>Adjektive</td>\n",
       "    </tr>\n",
       "    <tr>\n",
       "      <th>4</th>\n",
       "      <td>schön</td>\n",
       "      <td>nice</td>\n",
       "      <td>Adjektive</td>\n",
       "    </tr>\n",
       "  </tbody>\n",
       "</table>\n",
       "</div>"
      ],
      "text/plain": [
       "    German Translation   Category\n",
       "0  schnell        fast  Adjektive\n",
       "1  langsam        slow  Adjektive\n",
       "2  richtig       right  Adjektive\n",
       "3   falsch       wrong  Adjektive\n",
       "4    schön        nice  Adjektive"
      ]
     },
     "execution_count": 2,
     "metadata": {},
     "output_type": "execute_result"
    }
   ],
   "source": [
    "import pandas as pd\n",
    "\n",
    "# Load the CSV file to check its contents\n",
    "file_path = \"./database.xlsx\"\n",
    "df_nouns = pd.read_excel(file_path, sheet_name=\"Nouns\")\n",
    "df_adjectives = pd.read_excel(file_path, sheet_name=\"Adjectives\")\n",
    "df_verbs = pd.read_excel(file_path, sheet_name=\"Verbs\")\n",
    "df_comprehension = pd.read_excel(file_path, sheet_name=\"Comprehension\")\n",
    "\n",
    "# Display the first few rows to understand its structure\n",
    "df_adjectives.head()\n"
   ]
  },
  {
   "cell_type": "code",
   "execution_count": 3,
   "metadata": {},
   "outputs": [],
   "source": [
    "pd.concat((df_nouns, df_adjectives, df_verbs,df_comprehension), axis = 0).sample(frac=1).reset_index(drop=True).to_csv(\"./vokabelheft.csv\", index=False, sep=\",\")"
   ]
  }
 ],
 "metadata": {
  "kernelspec": {
   "display_name": "upsilon_env",
   "language": "python",
   "name": "python3"
  },
  "language_info": {
   "codemirror_mode": {
    "name": "ipython",
    "version": 3
   },
   "file_extension": ".py",
   "mimetype": "text/x-python",
   "name": "python",
   "nbconvert_exporter": "python",
   "pygments_lexer": "ipython3",
   "version": "3.10.16"
  }
 },
 "nbformat": 4,
 "nbformat_minor": 2
}
